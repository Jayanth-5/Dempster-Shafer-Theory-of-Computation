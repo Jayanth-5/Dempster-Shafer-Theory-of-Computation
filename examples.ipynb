{
 "cells": [
  {
   "cell_type": "code",
   "execution_count": 1,
   "id": "77989c62",
   "metadata": {},
   "outputs": [],
   "source": [
    "from dempster_shafer import MassFunction"
   ]
  },
  {
   "cell_type": "code",
   "execution_count": 2,
   "id": "253bd195",
   "metadata": {},
   "outputs": [
    {
     "name": "stdout",
     "output_type": "stream",
     "text": [
      "Mass Function 1:\n",
      "Frame: {'no_rain', 'rain'}\n",
      "m({'rain'}) = 0.7000\n",
      "m({'no_rain', 'rain'}) = 0.3000\n",
      "\n",
      "Mass Function 2:\n",
      "Frame: {'no_rain', 'rain'}\n",
      "m({'no_rain'}) = 0.4000\n",
      "m({'no_rain', 'rain'}) = 0.6000\n",
      "\n",
      "Combined Mass Function:\n",
      "Frame: {'no_rain', 'rain'}\n",
      "m({'rain'}) = 0.5833\n",
      "m({'no_rain'}) = 0.1667\n",
      "m({'no_rain', 'rain'}) = 0.2500\n",
      "\n",
      "Belief for {'rain'}: 0.5833\n",
      "Plausibility for {'rain'}: 0.8333\n"
     ]
    }
   ],
   "source": [
    "# Define the frame of discernment\n",
    "frame = {'rain', 'no_rain'}\n",
    "\n",
    "# Create mass functions with frozenset keys\n",
    "m1 = MassFunction(frame, {frozenset({'rain'}): 0.7, frozenset(frame): 0.3})\n",
    "m2 = MassFunction(frame, {frozenset({'no_rain'}): 0.4, frozenset(frame): 0.6})\n",
    "\n",
    "# Print initial mass functions\n",
    "print(\"Mass Function 1:\")\n",
    "print(m1)\n",
    "print(\"\\nMass Function 2:\")\n",
    "print(m2)\n",
    "\n",
    "# Combine the mass functions\n",
    "combined = m1.combine(m2)\n",
    "\n",
    "# Print combined result\n",
    "print(\"\\nCombined Mass Function:\")\n",
    "print(combined)\n",
    "\n",
    "# Calculate belief and plausibility\n",
    "print(f\"\\nBelief for {{'rain'}}: {combined.belief({'rain'}):.4f}\")\n",
    "print(f\"Plausibility for {{'rain'}}: {combined.plausibility({'rain'}):.4f}\")"
   ]
  },
  {
   "cell_type": "code",
   "execution_count": 3,
   "id": "743ae30f",
   "metadata": {},
   "outputs": [
    {
     "data": {
      "image/png": "[encoded data removed]",
      "text/plain": [
       "<Figure size 640x480 with 1 Axes>"
      ]
     },
     "metadata": {},
     "output_type": "display_data"
    }
   ],
   "source": [
    "import matplotlib.pyplot as plt\n",
    "\n",
    "# Prepare data for plotting\n",
    "subsets = [set(s) for s in combined.masses.keys()]\n",
    "masses = list(combined.masses.values())\n",
    "labels = [str(s) for s in subsets]\n",
    "\n",
    "# Bar plot\n",
    "plt.bar(labels, masses)\n",
    "plt.xlabel('Subsets')\n",
    "plt.ylabel('Mass Value')\n",
    "plt.title('Combined Mass Function')\n",
    "plt.show()"
   ]
  },
  {
   "cell_type": "code",
   "execution_count": 1,
   "id": "b3de5c4b",
   "metadata": {},
   "outputs": [
    {
     "name": "stdout",
     "output_type": "stream",
     "text": [
      "/Users/jayanthchowdary/Desktop/dempster-shafer-theory\n",
      "['__pycache__', 'dempster_shafer.py', 'examples.ipynb', '.ipynb_checkpoints']\n"
     ]
    }
   ],
   "source": [
    "import os\n",
    "print(os.getcwd())\n",
    "print(os.listdir())"
   ]
  },
  {
   "cell_type": "code",
   "execution_count": null,
   "id": "d4bdf1b4",
   "metadata": {},
   "outputs": [],
   "source": []
  }
 ],
 "metadata": {
  "kernelspec": {
   "display_name": "Python 3 (ipykernel)",
   "language": "python",
   "name": "python3"
  },
  "language_info": {
   "codemirror_mode": {
    "name": "ipython",
    "version": 3
   },
   "file_extension": ".py",
   "mimetype": "text/x-python",
   "name": "python",
   "nbconvert_exporter": "python",
   "pygments_lexer": "ipython3",
   "version": "3.9.13"
  }
 },
 "nbformat": 4,
 "nbformat_minor": 5
}
